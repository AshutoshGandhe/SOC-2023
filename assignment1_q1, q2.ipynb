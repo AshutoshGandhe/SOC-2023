{
 "cells": [
  {
   "cell_type": "code",
   "execution_count": null,
   "id": "35526753",
   "metadata": {},
   "outputs": [],
   "source": [
    "import numpy as np\n",
    "import pandas as pd\n",
    "from matplotlib import pyplot as plt\n",
    "from datetime import datetime, timedelta\n",
    "import csv\n",
    "from dateutil import relativedelta\n"
   ]
  },
  {
   "cell_type": "code",
   "execution_count": null,
   "id": "fda7d116",
   "metadata": {},
   "outputs": [],
   "source": [
    "dataset = pd.read_csv('C:\\Ashutosh\\SOC 2023\\Assignment\\data.csv')"
   ]
  },
  {
   "cell_type": "code",
   "execution_count": null,
   "id": "b2d12e3c",
   "metadata": {},
   "outputs": [],
   "source": [
    "dataset.columns"
   ]
  },
  {
   "cell_type": "code",
   "execution_count": null,
   "id": "635994d4",
   "metadata": {},
   "outputs": [],
   "source": [
    "dataset['originationDate'] = pd.to_datetime(dataset['originationDate'], format=\"mixed\")"
   ]
  },
  {
   "cell_type": "code",
   "execution_count": null,
   "id": "c044f980",
   "metadata": {},
   "outputs": [],
   "source": [
    "def read_csv_column(file_path, column_name):\n",
    "    column_values = []\n",
    "    with open(file_path, 'r') as csv_file:\n",
    "        csv_reader = csv.DictReader(csv_file)\n",
    "        for row in csv_reader:\n",
    "            column_values.append(row[column_name])\n",
    "    return column_values\n",
    "\n"
   ]
  },
  {
   "cell_type": "code",
   "execution_count": null,
   "id": "8442a591",
   "metadata": {},
   "outputs": [],
   "source": [
    "def convert_to_days(column_values):\n",
    "\n",
    "    days_list = []\n",
    "    for value in column_values:\n",
    "        \n",
    "        if 'm' in value:\n",
    "            days_list.append(float(value[0:2])*30)\n",
    "        elif 'y' in value:\n",
    "            days_list.append(float(value[0:1]) *365)\n",
    "        else:\n",
    "            continue\n",
    "    return days_list\n",
    "\n"
   ]
  },
  {
   "cell_type": "code",
   "execution_count": null,
   "id": "30bf177f",
   "metadata": {},
   "outputs": [],
   "source": [
    "\n",
    "file_path1 = \"C:\\Ashutosh\\SOC 2023\\Assignment\\data.csv\"\n",
    "column_name1 = \"loanTerm\"\n",
    "column_name2 = \"originationDate\"\n"
   ]
  },
  {
   "cell_type": "code",
   "execution_count": null,
   "id": "26d4c541",
   "metadata": {},
   "outputs": [],
   "source": [
    "colval = read_csv_column(file_path1, column_name1)"
   ]
  },
  {
   "cell_type": "code",
   "execution_count": null,
   "id": "01c9b649",
   "metadata": {},
   "outputs": [],
   "source": [
    "days = convert_to_days(colval)\n"
   ]
  },
  {
   "cell_type": "code",
   "execution_count": null,
   "id": "efe3d3ca",
   "metadata": {},
   "outputs": [],
   "source": [
    "def givefinalDate(origination_dates, loan_terms):\n",
    "    maturity_dates = []\n",
    "    for orig_date, loan_term in zip(origination_dates, loan_terms):\n",
    "        dt = datetime.strptime(orig_date, \"%d-%m-%Y\")\n",
    "        maturity_date = dt + timedelta(days=loan_term)\n",
    "        maturity_dates.append(maturity_date)\n",
    "    return maturity_dates\n"
   ]
  },
  {
   "cell_type": "code",
   "execution_count": null,
   "id": "83fc8654",
   "metadata": {},
   "outputs": [],
   "source": [
    "colval1 = read_csv_column(file_path1, column_name2)\n"
   ]
  },
  {
   "cell_type": "code",
   "execution_count": null,
   "id": "8a22ed91",
   "metadata": {},
   "outputs": [],
   "source": [
    "maturity_dates = givefinalDate(colval1, days)\n",
    "print(maturity_dates)"
   ]
  },
  {
   "cell_type": "code",
   "execution_count": null,
   "id": "4db34423",
   "metadata": {},
   "outputs": [],
   "source": [
    "current_date = datetime.now()\n",
    "print(current_date)"
   ]
  },
  {
   "cell_type": "code",
   "execution_count": null,
   "id": "525dafe9",
   "metadata": {},
   "outputs": [],
   "source": [
    "for date in maturity_dates:\n",
    "    diff = relativedelta.relativedelta(current_date, date)\n",
    "    remaining_term = (abs(diff.years) * 12) + abs(diff.months)\n",
    "    \n",
    "    if diff.days > 0:\n",
    "        remaining_term += 1\n",
    "    print(remaining_term)"
   ]
  },
  {
   "cell_type": "code",
   "execution_count": null,
   "id": "c067155a",
   "metadata": {},
   "outputs": [],
   "source": []
  }
 ],
 "metadata": {
  "kernelspec": {
   "display_name": "Python 3 (ipykernel)",
   "language": "python",
   "name": "python3"
  },
  "language_info": {
   "codemirror_mode": {
    "name": "ipython",
    "version": 3
   },
   "file_extension": ".py",
   "mimetype": "text/x-python",
   "name": "python",
   "nbconvert_exporter": "python",
   "pygments_lexer": "ipython3",
   "version": "3.11.3"
  }
 },
 "nbformat": 4,
 "nbformat_minor": 5
}
