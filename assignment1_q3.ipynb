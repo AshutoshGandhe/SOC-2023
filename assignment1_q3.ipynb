{
 "cells": [
  {
   "cell_type": "code",
   "execution_count": null,
   "id": "5a62660c",
   "metadata": {},
   "outputs": [],
   "source": [
    "import pandas as pd\n",
    "import csv"
   ]
  },
  {
   "cell_type": "code",
   "execution_count": null,
   "id": "b4757208",
   "metadata": {},
   "outputs": [],
   "source": [
    "dataset = pd.read_csv('C:\\Ashutosh\\SOC 2023\\Assignment\\data.csv')"
   ]
  },
  {
   "cell_type": "code",
   "execution_count": null,
   "id": "b70e29b0",
   "metadata": {},
   "outputs": [],
   "source": [
    "x = dataset['obligorState'].value_counts(ascending=True)\n",
    "second_highest = x.sort_values(ascending=False).iloc[1]\n",
    "print(second_highest)\n",
    "state = x[x == second_highest].index.tolist()\n",
    "print(state)"
   ]
  },
  {
   "cell_type": "code",
   "execution_count": null,
   "id": "665a3fbb",
   "metadata": {},
   "outputs": [],
   "source": [
    "state_sums = dataset.groupby('obligorState')['loanAmount'].sum()"
   ]
  },
  {
   "cell_type": "code",
   "execution_count": null,
   "id": "874921dc",
   "metadata": {},
   "outputs": [],
   "source": [
    "second_highest_loan = state_sums.sort_values(ascending=False).iloc[1]\n",
    "print(second_highest_loan)\n",
    "state_ = state_sums[state_sums == second_highest_loan].index.tolist()\n",
    "print(state_)"
   ]
  },
  {
   "cell_type": "code",
   "execution_count": null,
   "id": "ac977c1f",
   "metadata": {},
   "outputs": [],
   "source": []
  },
  {
   "cell_type": "code",
   "execution_count": null,
   "id": "087b44fd",
   "metadata": {},
   "outputs": [],
   "source": []
  }
 ],
 "metadata": {
  "kernelspec": {
   "display_name": "Python 3 (ipykernel)",
   "language": "python",
   "name": "python3"
  },
  "language_info": {
   "codemirror_mode": {
    "name": "ipython",
    "version": 3
   },
   "file_extension": ".py",
   "mimetype": "text/x-python",
   "name": "python",
   "nbconvert_exporter": "python",
   "pygments_lexer": "ipython3",
   "version": "3.11.3"
  }
 },
 "nbformat": 4,
 "nbformat_minor": 5
}
