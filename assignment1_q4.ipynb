{
 "cells": [
  {
   "cell_type": "code",
   "execution_count": null,
   "id": "677e50dc",
   "metadata": {},
   "outputs": [],
   "source": [
    "import pandas as pd\n",
    "from matplotlib import pyplot as plt\n",
    "dataset = pd.read_csv('C:\\Ashutosh\\SOC 2023\\Assignment\\data.csv')\n"
   ]
  },
  {
   "cell_type": "code",
   "execution_count": null,
   "id": "de1be527",
   "metadata": {},
   "outputs": [],
   "source": []
  },
  {
   "cell_type": "code",
   "execution_count": null,
   "id": "b30c541b",
   "metadata": {},
   "outputs": [],
   "source": [
    "number_of_new = dataset[dataset['vehicleNewUsedCode'] == 'New'].groupby('originationDate')['vehicleNewUsedCode'].count()"
   ]
  },
  {
   "cell_type": "code",
   "execution_count": null,
   "id": "6fd88d97",
   "metadata": {},
   "outputs": [],
   "source": [
    "print(number_of_new)"
   ]
  },
  {
   "cell_type": "code",
   "execution_count": null,
   "id": "3b8aa59b",
   "metadata": {},
   "outputs": [],
   "source": [
    "number_of_used = dataset[dataset['vehicleNewUsedCode'] == 'Used'].groupby('originationDate')['vehicleNewUsedCode'].count()"
   ]
  },
  {
   "cell_type": "code",
   "execution_count": null,
   "id": "62e7d179",
   "metadata": {},
   "outputs": [],
   "source": [
    "print(number_of_used)"
   ]
  },
  {
   "cell_type": "code",
   "execution_count": null,
   "id": "6c46f311",
   "metadata": {},
   "outputs": [],
   "source": [
    "total = number_of_used+number_of_new\n",
    "print(total)"
   ]
  },
  {
   "cell_type": "code",
   "execution_count": null,
   "id": "a2dcca93",
   "metadata": {},
   "outputs": [],
   "source": [
    "plt.plot(number_of_used.index, number_of_used.values, label='Used')\n",
    "plt.plot(total.index, total.values, label='Total')\n",
    "plt.xlabel('Origination Date')\n",
    "plt.ylabel('Number of Vehicles')\n",
    "plt.legend()\n",
    "plt.show()"
   ]
  },
  {
   "cell_type": "code",
   "execution_count": null,
   "id": "3a5fe266",
   "metadata": {},
   "outputs": [],
   "source": []
  },
  {
   "cell_type": "code",
   "execution_count": null,
   "id": "6db6d9aa",
   "metadata": {},
   "outputs": [],
   "source": []
  }
 ],
 "metadata": {
  "kernelspec": {
   "display_name": "Python 3 (ipykernel)",
   "language": "python",
   "name": "python3"
  },
  "language_info": {
   "codemirror_mode": {
    "name": "ipython",
    "version": 3
   },
   "file_extension": ".py",
   "mimetype": "text/x-python",
   "name": "python",
   "nbconvert_exporter": "python",
   "pygments_lexer": "ipython3",
   "version": "3.11.3"
  }
 },
 "nbformat": 4,
 "nbformat_minor": 5
}
