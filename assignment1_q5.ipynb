{
 "cells": [
  {
   "cell_type": "code",
   "execution_count": null,
   "id": "bf9085c3",
   "metadata": {},
   "outputs": [],
   "source": [
    "import pandas as pd"
   ]
  },
  {
   "cell_type": "code",
   "execution_count": null,
   "id": "080cb346",
   "metadata": {},
   "outputs": [],
   "source": [
    "dataset = pd.read_csv('C:\\Ashutosh\\SOC 2023\\Assignment\\data.csv')"
   ]
  },
  {
   "cell_type": "code",
   "execution_count": null,
   "id": "d5f826f5",
   "metadata": {},
   "outputs": [],
   "source": [
    "dataset['defaultFlag'] = dataset['beginningLoanBal'] == dataset['endingLoanBal']"
   ]
  },
  {
   "cell_type": "code",
   "execution_count": null,
   "id": "53a42999",
   "metadata": {},
   "outputs": [],
   "source": [
    "print(dataset['defaultFlag'])"
   ]
  },
  {
   "cell_type": "code",
   "execution_count": null,
   "id": "1a36a194",
   "metadata": {},
   "outputs": [],
   "source": [
    "number_of_defaulted = (dataset['defaultFlag']==True).sum()"
   ]
  },
  {
   "cell_type": "code",
   "execution_count": null,
   "id": "5223d2d3",
   "metadata": {},
   "outputs": [],
   "source": [
    "#percentage of loans defaulted\n",
    "print((number_of_defaulted)/len(dataset['defaultFlag'])*100)"
   ]
  },
  {
   "cell_type": "code",
   "execution_count": null,
   "id": "4a57bd43",
   "metadata": {},
   "outputs": [],
   "source": []
  }
 ],
 "metadata": {
  "kernelspec": {
   "display_name": "Python 3 (ipykernel)",
   "language": "python",
   "name": "python3"
  },
  "language_info": {
   "codemirror_mode": {
    "name": "ipython",
    "version": 3
   },
   "file_extension": ".py",
   "mimetype": "text/x-python",
   "name": "python",
   "nbconvert_exporter": "python",
   "pygments_lexer": "ipython3",
   "version": "3.11.3"
  }
 },
 "nbformat": 4,
 "nbformat_minor": 5
}
