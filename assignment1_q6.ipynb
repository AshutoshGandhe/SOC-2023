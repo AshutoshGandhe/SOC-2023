{
 "cells": [
  {
   "cell_type": "code",
   "execution_count": 1,
   "id": "794db2ad",
   "metadata": {},
   "outputs": [],
   "source": [
    "import pandas as pd"
   ]
  },
  {
   "cell_type": "code",
   "execution_count": 13,
   "id": "106dc12e",
   "metadata": {},
   "outputs": [],
   "source": [
    "dataset = pd.read_csv('C:\\Ashutosh\\SOC 2023\\Assignment\\data.csv')"
   ]
  },
  {
   "cell_type": "code",
   "execution_count": 28,
   "id": "8e512a9f",
   "metadata": {},
   "outputs": [
    {
     "data": {
      "text/plain": [
       "1338"
      ]
     },
     "execution_count": 28,
     "metadata": {},
     "output_type": "execute_result"
    }
   ],
   "source": [
    "co_used_set = dataset.loc[(dataset['coObligorIndicator'] == True) & (dataset['vehicleNewUsedCode'] == 'Used')]\n",
    "len(co_used_set)"
   ]
  },
  {
   "cell_type": "code",
   "execution_count": 36,
   "id": "c80d558a",
   "metadata": {},
   "outputs": [
    {
     "name": "stdout",
     "output_type": "stream",
     "text": [
      "445\n"
     ]
    }
   ],
   "source": [
    "#assumption: the co-obligor pays half interest at the given interest rate\n",
    "req_set = co_used_set.groupby(dataset['intRate'] <= 0.06).size()\n",
    "print(req_set.loc[True])"
   ]
  },
  {
   "cell_type": "code",
   "execution_count": 39,
   "id": "8efb1c99",
   "metadata": {},
   "outputs": [
    {
     "name": "stdout",
     "output_type": "stream",
     "text": [
      "33.25859491778774\n"
     ]
    }
   ],
   "source": [
    "#percentage of loans on used cars with co obligors who pay <=3% of interest:\n",
    "percentage = (req_set.loc[True])/len(co_used_set)*100\n",
    "print(percentage)"
   ]
  },
  {
   "cell_type": "code",
   "execution_count": null,
   "id": "cd48df14",
   "metadata": {},
   "outputs": [],
   "source": []
  }
 ],
 "metadata": {
  "kernelspec": {
   "display_name": "Python 3 (ipykernel)",
   "language": "python",
   "name": "python3"
  },
  "language_info": {
   "codemirror_mode": {
    "name": "ipython",
    "version": 3
   },
   "file_extension": ".py",
   "mimetype": "text/x-python",
   "name": "python",
   "nbconvert_exporter": "python",
   "pygments_lexer": "ipython3",
   "version": "3.11.3"
  }
 },
 "nbformat": 4,
 "nbformat_minor": 5
}
