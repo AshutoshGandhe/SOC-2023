{
 "cells": [
  {
   "cell_type": "code",
   "execution_count": 1,
   "id": "59bee6bc",
   "metadata": {},
   "outputs": [],
   "source": [
    "import pandas as pd"
   ]
  },
  {
   "cell_type": "code",
   "execution_count": 2,
   "id": "c158c348",
   "metadata": {},
   "outputs": [],
   "source": [
    "dataset = pd.read_csv('C:\\Ashutosh\\SOC 2023\\Assignment\\data.csv')"
   ]
  },
  {
   "cell_type": "code",
   "execution_count": 15,
   "id": "1cf710c9",
   "metadata": {},
   "outputs": [],
   "source": [
    "florida_set = dataset.loc[dataset['obligorState'] == 'FL']"
   ]
  },
  {
   "cell_type": "code",
   "execution_count": 17,
   "id": "c98d4201",
   "metadata": {},
   "outputs": [],
   "source": [
    "most_popular_vehicle = florida_set.groupby(['vehicleModelName', 'vehicleModelYear']).size().sort_values(ascending=True).head(1)"
   ]
  },
  {
   "cell_type": "code",
   "execution_count": 18,
   "id": "723b6697",
   "metadata": {},
   "outputs": [
    {
     "name": "stdout",
     "output_type": "stream",
     "text": [
      "vehicleModelName  vehicleModelYear\n",
      "4RUNNER           2013                1\n",
      "dtype: int64\n"
     ]
    }
   ],
   "source": [
    "print(most_popular_vehicle)"
   ]
  },
  {
   "cell_type": "code",
   "execution_count": null,
   "id": "f22635b0",
   "metadata": {},
   "outputs": [],
   "source": []
  }
 ],
 "metadata": {
  "kernelspec": {
   "display_name": "Python 3 (ipykernel)",
   "language": "python",
   "name": "python3"
  },
  "language_info": {
   "codemirror_mode": {
    "name": "ipython",
    "version": 3
   },
   "file_extension": ".py",
   "mimetype": "text/x-python",
   "name": "python",
   "nbconvert_exporter": "python",
   "pygments_lexer": "ipython3",
   "version": "3.11.3"
  }
 },
 "nbformat": 4,
 "nbformat_minor": 5
}
