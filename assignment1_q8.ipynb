{
 "cells": [
  {
   "cell_type": "code",
   "execution_count": 2,
   "id": "1fddf8fd",
   "metadata": {},
   "outputs": [],
   "source": [
    "import pandas as pd\n",
    "from matplotlib import pyplot as plt"
   ]
  },
  {
   "cell_type": "code",
   "execution_count": 3,
   "id": "369cbb0d",
   "metadata": {},
   "outputs": [],
   "source": [
    "dataset = pd.read_csv('C:\\Ashutosh\\SOC 2023\\Assignment\\data.csv')"
   ]
  },
  {
   "cell_type": "code",
   "execution_count": 4,
   "id": "5eff8a7c",
   "metadata": {},
   "outputs": [
    {
     "name": "stdout",
     "output_type": "stream",
     "text": [
      "0\n"
     ]
    }
   ],
   "source": [
    "print(dataset['obligorCreditScore'].min())"
   ]
  },
  {
   "cell_type": "code",
   "execution_count": 5,
   "id": "7cb14857",
   "metadata": {},
   "outputs": [],
   "source": [
    "bin_edges = [0, 600, 675, 750, 825, 900]\n",
    "bin_labels = ['0-600', '600-675', '675-750', '750-825', '825-900']"
   ]
  },
  {
   "cell_type": "code",
   "execution_count": 14,
   "id": "3925d06d",
   "metadata": {},
   "outputs": [],
   "source": [
    "dataset['buckets'] = pd.cut(dataset['obligorCreditScore'], bins=bin_edges, labels=bin_labels)"
   ]
  },
  {
   "cell_type": "code",
   "execution_count": 15,
   "id": "e9eb7c7c",
   "metadata": {},
   "outputs": [],
   "source": [
    "dataset['defaultFlag'] = dataset['beginningLoanBal'] == dataset['endingLoanBal']"
   ]
  },
  {
   "cell_type": "code",
   "execution_count": 31,
   "id": "6997f979",
   "metadata": {},
   "outputs": [
    {
     "name": "stdout",
     "output_type": "stream",
     "text": [
      "buckets\n",
      "675-750     0.000000\n",
      "750-825     1.831623\n",
      "825-900    13.651797\n",
      "600-675    23.357664\n",
      "0-600            inf\n",
      "Name: count, dtype: float64\n"
     ]
    }
   ],
   "source": [
    "defaulted = dataset[dataset['defaultFlag'] == True].groupby(dataset['buckets'])['defaultFlag'].count()\n",
    "avg_default_rate = defaulted.values / dataset['buckets'].value_counts() * 100\n",
    "print(avg_default_rate)"
   ]
  },
  {
   "cell_type": "code",
   "execution_count": 32,
   "id": "d6e7da66",
   "metadata": {},
   "outputs": [
    {
     "data": {
      "text/plain": [
       "Text(0.5, 0, 'Obligor Credit Score Bins')"
      ]
     },
     "execution_count": 32,
     "metadata": {},
     "output_type": "execute_result"
    },
    {
     "data": {
      "image/png": "[encoded data removed]",
      "text/plain": [
       "<Figure size 640x480 with 1 Axes>"
      ]
     },
     "metadata": {},
     "output_type": "display_data"
    }
   ],
   "source": [
    "plt.bar(bin_labels, avg_default_rate.values)\n",
    "plt.xlabel('Obligor Credit Score Bins')\n"
   ]
  },
  {
   "cell_type": "code",
   "execution_count": null,
   "id": "1de6b447",
   "metadata": {},
   "outputs": [],
   "source": []
  }
 ],
 "metadata": {
  "kernelspec": {
   "display_name": "Python 3 (ipykernel)",
   "language": "python",
   "name": "python3"
  },
  "language_info": {
   "codemirror_mode": {
    "name": "ipython",
    "version": 3
   },
   "file_extension": ".py",
   "mimetype": "text/x-python",
   "name": "python",
   "nbconvert_exporter": "python",
   "pygments_lexer": "ipython3",
   "version": "3.11.3"
  }
 },
 "nbformat": 4,
 "nbformat_minor": 5
}
